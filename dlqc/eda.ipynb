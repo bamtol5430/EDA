{
 "cells": [
  {
   "attachments": {},
   "cell_type": "markdown",
   "metadata": {},
   "source": [
    "## 각종 필요 패키지 import"
   ]
  },
  {
   "cell_type": "code",
   "execution_count": 63,
   "metadata": {},
   "outputs": [],
   "source": [
    "import os\n",
    "import pandas as pd\n",
    "import numpy as np\n",
    "from tqdm import tqdm\n",
    "from datetime import datetime\n",
    "from dateutil.relativedelta import relativedelta\n",
    "from collections import defaultdict"
   ]
  },
  {
   "attachments": {},
   "cell_type": "markdown",
   "metadata": {},
   "source": [
    "## CSV 파일 line 수를 저장하는 클래스 정의"
   ]
  },
  {
   "cell_type": "code",
   "execution_count": 2,
   "metadata": {},
   "outputs": [],
   "source": [
    "class DLQC():\n",
    "    def __init__(self, years):\n",
    "        for year in years:\n",
    "            setattr(self, f'min_{year}', defaultdict(lambda: np.zeros(shape=12)))\n",
    "            setattr(self, f'qcd_{year}', defaultdict(lambda: np.zeros(shape=12)))\n",
    "\n",
    "# dlqc.min_2021[stn_id][0:12] = lines"
   ]
  },
  {
   "attachments": {},
   "cell_type": "markdown",
   "metadata": {},
   "source": [
    "## 이름 유효성 검사 및 csv line 세는 함수 정의"
   ]
  },
  {
   "cell_type": "code",
   "execution_count": 3,
   "metadata": {},
   "outputs": [],
   "source": [
    "def validation_test_for_naming(m_q, stn_id, date):\n",
    "    return m_q != 'min' or m_q != 'qcd' or stn_id >= 1000 or date % 100 > 12\n",
    "\n",
    "\n",
    "def get_lines_with_csv_path(path):\n",
    "    chunk = 1024*1024   # Process 1 MB at a time.\n",
    "    f = np.memmap(path, mode='r')\n",
    "    num_newlines = sum(np.sum(f[i:i+chunk] == ord('\\n')) for i in range(0, len(f), chunk))\n",
    "    del f\n",
    "    return num_newlines"
   ]
  },
  {
   "attachments": {},
   "cell_type": "markdown",
   "metadata": {},
   "source": [
    "## EDA"
   ]
  },
  {
   "attachments": {},
   "cell_type": "markdown",
   "metadata": {},
   "source": [
    "먼저 모든 csv 파일을 읽고 line 수만 저장해놓는다."
   ]
  },
  {
   "cell_type": "code",
   "execution_count": 4,
   "metadata": {},
   "outputs": [
    {
     "name": "stderr",
     "output_type": "stream",
     "text": [
      "2021: 100%|██████████| 17682/17682 [00:59<00:00, 299.47it/s]\n",
      "2022: 100%|██████████| 16330/16330 [00:52<00:00, 313.00it/s]\n"
     ]
    }
   ],
   "source": [
    "data_dir = 'CSV3DB'\n",
    "header_name = ['time', 'ta', 'wd', 'ws', 'rn', 'pa', 're', 'sd', 'hm']\n",
    "years = os.listdir(data_dir)\n",
    "\n",
    "dlqc = DLQC(years)\n",
    "\n",
    "for year in years:\n",
    "    pbar = tqdm(os.listdir(os.path.join('CSV3DB', year)), desc=year)\n",
    "    for csv_name in pbar:\n",
    "        if csv_name.endswith('csv'):\n",
    "            _, _, m_q, stn_id, date = csv_name.split('_')\n",
    "            stn_id = int(stn_id)\n",
    "            date, _ = date.split('.')\n",
    "            date = int(date)\n",
    "            if validation_test_for_naming(m_q, stn_id, date):\n",
    "                getattr(dlqc, f'{m_q}_{year}')[stn_id][date % 100 - 1] = get_lines_with_csv_path(os.path.join('CSV3DB', year, csv_name))\n",
    "            else:\n",
    "                raise Exception(f'{csv_name} is invalid name.')      \n",
    "        else:\n",
    "            raise Exception(f'{csv_name} is invalid name.')\n",
    "\n"
   ]
  },
  {
   "cell_type": "code",
   "execution_count": 5,
   "metadata": {},
   "outputs": [
    {
     "data": {
      "text/plain": [
       "(761, 761, 754, 753)"
      ]
     },
     "execution_count": 5,
     "metadata": {},
     "output_type": "execute_result"
    }
   ],
   "source": [
    "# station id가 몇 개인지 확인\n",
    "len(dlqc.min_2021), len(dlqc.qcd_2021), len(dlqc.min_2022), len(dlqc.qcd_2022)"
   ]
  },
  {
   "attachments": {},
   "cell_type": "markdown",
   "metadata": {},
   "source": [
    "2021년과 2022년의 stn_id 개수가 서로 맞지 않는다.\n",
    "\n",
    "또, 2022년의 min과 qcd의 stn_id 개수가 같지 않다.\n",
    "\n",
    "먼저 2021년 min, qcd간의 stn_id와 2022년 min, qcd간의 stn_id가 서로 같은지 확인한다."
   ]
  },
  {
   "cell_type": "code",
   "execution_count": 6,
   "metadata": {},
   "outputs": [
    {
     "data": {
      "text/plain": [
       "(True, False)"
      ]
     },
     "execution_count": 6,
     "metadata": {},
     "output_type": "execute_result"
    }
   ],
   "source": [
    "# 2021년은 같지만 2022년은 다르다.\n",
    "set(dlqc.min_2021) == set(dlqc.qcd_2021), set(dlqc.min_2022) == set(dlqc.qcd_2022)"
   ]
  },
  {
   "cell_type": "code",
   "execution_count": 7,
   "metadata": {},
   "outputs": [
    {
     "data": {
      "text/plain": [
       "({111}, set())"
      ]
     },
     "execution_count": 7,
     "metadata": {},
     "output_type": "execute_result"
    }
   ],
   "source": [
    "set(dlqc.min_2022) - set(dlqc.qcd_2022), set(dlqc.qcd_2022) - set(dlqc.min_2022)"
   ]
  },
  {
   "attachments": {},
   "cell_type": "markdown",
   "metadata": {},
   "source": [
    "2022년 111번은 min은 있지만 qcd가 없다.\n",
    "\n",
    "2022년 111번 min csv 이름 찾기"
   ]
  },
  {
   "cell_type": "code",
   "execution_count": 8,
   "metadata": {},
   "outputs": [
    {
     "data": {
      "text/plain": [
       "['dlqc_aws3_min_111_202207.csv']"
      ]
     },
     "execution_count": 8,
     "metadata": {},
     "output_type": "execute_result"
    }
   ],
   "source": [
    "no_qcd_list = list(filter(lambda x: x.startswith('dlqc_aws3_min_111'), os.listdir(os.path.join(data_dir, '2022'))))\n",
    "no_qcd_list"
   ]
  },
  {
   "cell_type": "code",
   "execution_count": 9,
   "metadata": {},
   "outputs": [
    {
     "data": {
      "text/html": [
       "<div>\n",
       "<style scoped>\n",
       "    .dataframe tbody tr th:only-of-type {\n",
       "        vertical-align: middle;\n",
       "    }\n",
       "\n",
       "    .dataframe tbody tr th {\n",
       "        vertical-align: top;\n",
       "    }\n",
       "\n",
       "    .dataframe thead th {\n",
       "        text-align: right;\n",
       "    }\n",
       "</style>\n",
       "<table border=\"1\" class=\"dataframe\">\n",
       "  <thead>\n",
       "    <tr style=\"text-align: right;\">\n",
       "      <th></th>\n",
       "      <th>ta</th>\n",
       "      <th>wd</th>\n",
       "      <th>ws</th>\n",
       "      <th>rn</th>\n",
       "      <th>pa</th>\n",
       "      <th>re</th>\n",
       "      <th>sd</th>\n",
       "      <th>hm</th>\n",
       "    </tr>\n",
       "  </thead>\n",
       "  <tbody>\n",
       "    <tr>\n",
       "      <th>count</th>\n",
       "      <td>56.000000</td>\n",
       "      <td>56.000000</td>\n",
       "      <td>56.000000</td>\n",
       "      <td>56.0</td>\n",
       "      <td>56.0</td>\n",
       "      <td>56.0</td>\n",
       "      <td>56.0</td>\n",
       "      <td>56.000000</td>\n",
       "    </tr>\n",
       "    <tr>\n",
       "      <th>mean</th>\n",
       "      <td>30.235714</td>\n",
       "      <td>185.366071</td>\n",
       "      <td>1.091071</td>\n",
       "      <td>0.0</td>\n",
       "      <td>-999.0</td>\n",
       "      <td>-999.0</td>\n",
       "      <td>-999.0</td>\n",
       "      <td>-661.232143</td>\n",
       "    </tr>\n",
       "    <tr>\n",
       "      <th>std</th>\n",
       "      <td>1.508452</td>\n",
       "      <td>144.805072</td>\n",
       "      <td>0.524760</td>\n",
       "      <td>0.0</td>\n",
       "      <td>0.0</td>\n",
       "      <td>0.0</td>\n",
       "      <td>0.0</td>\n",
       "      <td>495.211286</td>\n",
       "    </tr>\n",
       "    <tr>\n",
       "      <th>min</th>\n",
       "      <td>26.600000</td>\n",
       "      <td>0.000000</td>\n",
       "      <td>0.100000</td>\n",
       "      <td>0.0</td>\n",
       "      <td>-999.0</td>\n",
       "      <td>-999.0</td>\n",
       "      <td>-999.0</td>\n",
       "      <td>-999.000000</td>\n",
       "    </tr>\n",
       "    <tr>\n",
       "      <th>25%</th>\n",
       "      <td>29.650000</td>\n",
       "      <td>39.550000</td>\n",
       "      <td>0.700000</td>\n",
       "      <td>0.0</td>\n",
       "      <td>-999.0</td>\n",
       "      <td>-999.0</td>\n",
       "      <td>-999.0</td>\n",
       "      <td>-999.000000</td>\n",
       "    </tr>\n",
       "    <tr>\n",
       "      <th>50%</th>\n",
       "      <td>30.500000</td>\n",
       "      <td>190.050000</td>\n",
       "      <td>1.100000</td>\n",
       "      <td>0.0</td>\n",
       "      <td>-999.0</td>\n",
       "      <td>-999.0</td>\n",
       "      <td>-999.0</td>\n",
       "      <td>-999.000000</td>\n",
       "    </tr>\n",
       "    <tr>\n",
       "      <th>75%</th>\n",
       "      <td>31.500000</td>\n",
       "      <td>326.125000</td>\n",
       "      <td>1.300000</td>\n",
       "      <td>0.0</td>\n",
       "      <td>-999.0</td>\n",
       "      <td>-999.0</td>\n",
       "      <td>-999.0</td>\n",
       "      <td>48.000000</td>\n",
       "    </tr>\n",
       "    <tr>\n",
       "      <th>max</th>\n",
       "      <td>32.800000</td>\n",
       "      <td>359.800000</td>\n",
       "      <td>2.400000</td>\n",
       "      <td>0.0</td>\n",
       "      <td>-999.0</td>\n",
       "      <td>-999.0</td>\n",
       "      <td>-999.0</td>\n",
       "      <td>58.000000</td>\n",
       "    </tr>\n",
       "  </tbody>\n",
       "</table>\n",
       "</div>"
      ],
      "text/plain": [
       "              ta          wd         ws    rn     pa     re     sd          hm\n",
       "count  56.000000   56.000000  56.000000  56.0   56.0   56.0   56.0   56.000000\n",
       "mean   30.235714  185.366071   1.091071   0.0 -999.0 -999.0 -999.0 -661.232143\n",
       "std     1.508452  144.805072   0.524760   0.0    0.0    0.0    0.0  495.211286\n",
       "min    26.600000    0.000000   0.100000   0.0 -999.0 -999.0 -999.0 -999.000000\n",
       "25%    29.650000   39.550000   0.700000   0.0 -999.0 -999.0 -999.0 -999.000000\n",
       "50%    30.500000  190.050000   1.100000   0.0 -999.0 -999.0 -999.0 -999.000000\n",
       "75%    31.500000  326.125000   1.300000   0.0 -999.0 -999.0 -999.0   48.000000\n",
       "max    32.800000  359.800000   2.400000   0.0 -999.0 -999.0 -999.0   58.000000"
      ]
     },
     "execution_count": 9,
     "metadata": {},
     "output_type": "execute_result"
    }
   ],
   "source": [
    "# 하나의 csv파일이므로 열어서 확인\n",
    "temp_df = pd.read_csv(os.path.join(data_dir, '2022', no_qcd_list[0]),\n",
    "                      names=header_name)\n",
    "temp_df.describe()"
   ]
  },
  {
   "cell_type": "code",
   "execution_count": 10,
   "metadata": {},
   "outputs": [],
   "source": [
    "# 적어도 1시간의 timestep이 필요한데, 없으므로 버려도 될 것으로 판단, 초기화한다.\n",
    "del(dlqc.min_2022[111])"
   ]
  },
  {
   "cell_type": "code",
   "execution_count": 11,
   "metadata": {},
   "outputs": [
    {
     "data": {
      "text/plain": [
       "(True, True)"
      ]
     },
     "execution_count": 11,
     "metadata": {},
     "output_type": "execute_result"
    }
   ],
   "source": [
    "set(dlqc.min_2021) == set(dlqc.qcd_2021), set(dlqc.min_2022) == set(dlqc.qcd_2022)"
   ]
  },
  {
   "attachments": {},
   "cell_type": "markdown",
   "metadata": {},
   "source": [
    "지금까지 2021년 내, 2022년 내에서 비교했다면, 이젠 2021년과 2022년 간의 stn_id를 비교한다."
   ]
  },
  {
   "cell_type": "code",
   "execution_count": 30,
   "metadata": {},
   "outputs": [
    {
     "data": {
      "text/plain": [
       "({0, 89, 111, 197, 220, 484, 562, 684, 880, 894, 895, 981},\n",
       " {34, 347, 348, 994})"
      ]
     },
     "execution_count": 30,
     "metadata": {},
     "output_type": "execute_result"
    }
   ],
   "source": [
    "# 2021년에만 있는 stn_id : {0, 89, 111, 197, 220, 484, 562, 684, 880, 894, 895, 981}\n",
    "# 2022년에만 있는 stn_id : {34, 347, 348, 994}\n",
    "set(dlqc.min_2021) - set(dlqc.min_2022), set(dlqc.min_2022) - set(dlqc.min_2021)"
   ]
  },
  {
   "attachments": {},
   "cell_type": "markdown",
   "metadata": {},
   "source": [
    "결국 모든 csv파일을 pandas로 읽어 다음과 같은 내용을 확인해보려 한다.\n",
    "\n",
    "stn별 어떤 기상 관측 요소를 사용하는지,\n",
    "\n",
    "각 월별로 min과 qcd가 서로 일치하는 time step을 갖고있는지,\n",
    "\n",
    "또 얼마나 많은 결측지가 있는지 등을 확인해본다."
   ]
  },
  {
   "attachments": {},
   "cell_type": "markdown",
   "metadata": {},
   "source": [
    "## 각종 확인 함수 정의"
   ]
  },
  {
   "cell_type": "code",
   "execution_count": 73,
   "metadata": {},
   "outputs": [],
   "source": [
    "def is_df_time_has_full_range(series, year, month):\n",
    "    full_range = pd.date_range(datetime(int(year), month, 1), datetime(int(year), month, 1) + relativedelta(months=1), freq='T')\n",
    "    return len(series) == len(full_range) and series == full_range\n",
    "\n",
    "\n",
    "def is_dfs_index_has_same_range(series1, series2):\n",
    "    return len(series1) == len(series2) and series1 == series2 "
   ]
  },
  {
   "cell_type": "code",
   "execution_count": 74,
   "metadata": {},
   "outputs": [
    {
     "name": "stderr",
     "output_type": "stream",
     "text": [
      "2021:  11%|█         | 82/761 [01:13<10:09,  1.11it/s]\n"
     ]
    },
    {
     "ename": "KeyboardInterrupt",
     "evalue": "",
     "output_type": "error",
     "traceback": [
      "\u001b[0;31m---------------------------------------------------------------------------\u001b[0m",
      "\u001b[0;31mKeyboardInterrupt\u001b[0m                         Traceback (most recent call last)",
      "Cell \u001b[0;32mIn[74], line 9\u001b[0m\n\u001b[1;32m      6\u001b[0m \u001b[39mfor\u001b[39;00m month_idx \u001b[39min\u001b[39;00m np\u001b[39m.\u001b[39mwhere(min_list \u001b[39m|\u001b[39m qcd_list)[\u001b[39m0\u001b[39m]:\n\u001b[1;32m      7\u001b[0m     \u001b[39m# min, qcd 둘 다 있는 월\u001b[39;00m\n\u001b[1;32m      8\u001b[0m     \u001b[39mif\u001b[39;00m month_idx \u001b[39min\u001b[39;00m np\u001b[39m.\u001b[39mwhere(min_list \u001b[39m&\u001b[39m qcd_list)[\u001b[39m0\u001b[39m]:\n\u001b[0;32m----> 9\u001b[0m         min_df \u001b[39m=\u001b[39m pd\u001b[39m.\u001b[39;49mread_csv(os\u001b[39m.\u001b[39;49mpath\u001b[39m.\u001b[39;49mjoin(data_dir, year, \u001b[39mf\u001b[39;49m\u001b[39m'\u001b[39;49m\u001b[39mdlqc_aws3_min_\u001b[39;49m\u001b[39m{\u001b[39;49;00mstn_id\u001b[39m:\u001b[39;49;00m\u001b[39m03d\u001b[39;49m\u001b[39m}\u001b[39;49;00m\u001b[39m_\u001b[39;49m\u001b[39m{\u001b[39;49;00myear\u001b[39m}\u001b[39;49;00m\u001b[39m{\u001b[39;49;00mmonth_idx\u001b[39m+\u001b[39;49m\u001b[39m1\u001b[39;49m\u001b[39m:\u001b[39;49;00m\u001b[39m02d\u001b[39;49m\u001b[39m}\u001b[39;49;00m\u001b[39m.csv\u001b[39;49m\u001b[39m'\u001b[39;49m),\n\u001b[1;32m     10\u001b[0m                              header\u001b[39m=\u001b[39;49m\u001b[39mNone\u001b[39;49;00m, names\u001b[39m=\u001b[39;49mheader_name, date_format\u001b[39m=\u001b[39;49m\u001b[39m'\u001b[39;49m\u001b[39m%\u001b[39;49m\u001b[39mY.\u001b[39;49m\u001b[39m%\u001b[39;49m\u001b[39mm.\u001b[39;49m\u001b[39m%d\u001b[39;49;00m\u001b[39m \u001b[39;49m\u001b[39m%\u001b[39;49m\u001b[39mH:\u001b[39;49m\u001b[39m%\u001b[39;49m\u001b[39mM:\u001b[39;49m\u001b[39m%\u001b[39;49m\u001b[39mS\u001b[39;49m\u001b[39m'\u001b[39;49m, parse_dates\u001b[39m=\u001b[39;49m[\u001b[39m0\u001b[39;49m], index_col\u001b[39m=\u001b[39;49m[\u001b[39m0\u001b[39;49m])\n\u001b[1;32m     11\u001b[0m         qcd_df \u001b[39m=\u001b[39m pd\u001b[39m.\u001b[39mread_csv(os\u001b[39m.\u001b[39mpath\u001b[39m.\u001b[39mjoin(data_dir, year, \u001b[39mf\u001b[39m\u001b[39m'\u001b[39m\u001b[39mdlqc_aws3_qcd_\u001b[39m\u001b[39m{\u001b[39;00mstn_id\u001b[39m:\u001b[39;00m\u001b[39m03d\u001b[39m\u001b[39m}\u001b[39;00m\u001b[39m_\u001b[39m\u001b[39m{\u001b[39;00myear\u001b[39m}\u001b[39;00m\u001b[39m{\u001b[39;00mmonth_idx\u001b[39m+\u001b[39m\u001b[39m1\u001b[39m\u001b[39m:\u001b[39;00m\u001b[39m02d\u001b[39m\u001b[39m}\u001b[39;00m\u001b[39m.csv\u001b[39m\u001b[39m'\u001b[39m),\n\u001b[1;32m     12\u001b[0m                              header\u001b[39m=\u001b[39m\u001b[39mNone\u001b[39;00m, names\u001b[39m=\u001b[39mheader_name, date_format\u001b[39m=\u001b[39m\u001b[39m'\u001b[39m\u001b[39m%\u001b[39m\u001b[39mY.\u001b[39m\u001b[39m%\u001b[39m\u001b[39mm.\u001b[39m\u001b[39m%d\u001b[39;00m\u001b[39m \u001b[39m\u001b[39m%\u001b[39m\u001b[39mH:\u001b[39m\u001b[39m%\u001b[39m\u001b[39mM:\u001b[39m\u001b[39m%\u001b[39m\u001b[39mS\u001b[39m\u001b[39m'\u001b[39m, parse_dates\u001b[39m=\u001b[39m[\u001b[39m0\u001b[39m], index_col\u001b[39m=\u001b[39m[\u001b[39m0\u001b[39m])\n\u001b[1;32m     14\u001b[0m         \u001b[39mif\u001b[39;00m is_df_time_has_full_range(min_df\u001b[39m.\u001b[39mindex, year, month_idx \u001b[39m+\u001b[39m \u001b[39m1\u001b[39m) \u001b[39mand\u001b[39;00m is_df_time_has_full_range(qcd_df\u001b[39m.\u001b[39mindex, year, month_idx \u001b[39m+\u001b[39m \u001b[39m1\u001b[39m) \u001b[39mand\u001b[39;00m is_dfs_index_has_same_range(min_df\u001b[39m.\u001b[39mindex, qcd_df\u001b[39m.\u001b[39mindex):\n",
      "File \u001b[0;32m~/miniconda3/envs/dlqc/lib/python3.9/site-packages/pandas/io/parsers/readers.py:912\u001b[0m, in \u001b[0;36mread_csv\u001b[0;34m(filepath_or_buffer, sep, delimiter, header, names, index_col, usecols, dtype, engine, converters, true_values, false_values, skipinitialspace, skiprows, skipfooter, nrows, na_values, keep_default_na, na_filter, verbose, skip_blank_lines, parse_dates, infer_datetime_format, keep_date_col, date_parser, date_format, dayfirst, cache_dates, iterator, chunksize, compression, thousands, decimal, lineterminator, quotechar, quoting, doublequote, escapechar, comment, encoding, encoding_errors, dialect, on_bad_lines, delim_whitespace, low_memory, memory_map, float_precision, storage_options, dtype_backend)\u001b[0m\n\u001b[1;32m    899\u001b[0m kwds_defaults \u001b[39m=\u001b[39m _refine_defaults_read(\n\u001b[1;32m    900\u001b[0m     dialect,\n\u001b[1;32m    901\u001b[0m     delimiter,\n\u001b[0;32m   (...)\u001b[0m\n\u001b[1;32m    908\u001b[0m     dtype_backend\u001b[39m=\u001b[39mdtype_backend,\n\u001b[1;32m    909\u001b[0m )\n\u001b[1;32m    910\u001b[0m kwds\u001b[39m.\u001b[39mupdate(kwds_defaults)\n\u001b[0;32m--> 912\u001b[0m \u001b[39mreturn\u001b[39;00m _read(filepath_or_buffer, kwds)\n",
      "File \u001b[0;32m~/miniconda3/envs/dlqc/lib/python3.9/site-packages/pandas/io/parsers/readers.py:583\u001b[0m, in \u001b[0;36m_read\u001b[0;34m(filepath_or_buffer, kwds)\u001b[0m\n\u001b[1;32m    580\u001b[0m     \u001b[39mreturn\u001b[39;00m parser\n\u001b[1;32m    582\u001b[0m \u001b[39mwith\u001b[39;00m parser:\n\u001b[0;32m--> 583\u001b[0m     \u001b[39mreturn\u001b[39;00m parser\u001b[39m.\u001b[39;49mread(nrows)\n",
      "File \u001b[0;32m~/miniconda3/envs/dlqc/lib/python3.9/site-packages/pandas/io/parsers/readers.py:1721\u001b[0m, in \u001b[0;36mTextFileReader.read\u001b[0;34m(self, nrows)\u001b[0m\n\u001b[1;32m   1718\u001b[0m     \u001b[39melse\u001b[39;00m:\n\u001b[1;32m   1719\u001b[0m         new_rows \u001b[39m=\u001b[39m \u001b[39mlen\u001b[39m(index)\n\u001b[0;32m-> 1721\u001b[0m     df \u001b[39m=\u001b[39m DataFrame(col_dict, columns\u001b[39m=\u001b[39;49mcolumns, index\u001b[39m=\u001b[39;49mindex)\n\u001b[1;32m   1723\u001b[0m     \u001b[39mself\u001b[39m\u001b[39m.\u001b[39m_currow \u001b[39m+\u001b[39m\u001b[39m=\u001b[39m new_rows\n\u001b[1;32m   1724\u001b[0m \u001b[39mreturn\u001b[39;00m df\n",
      "File \u001b[0;32m~/miniconda3/envs/dlqc/lib/python3.9/site-packages/pandas/core/frame.py:708\u001b[0m, in \u001b[0;36mDataFrame.__init__\u001b[0;34m(self, data, index, columns, dtype, copy)\u001b[0m\n\u001b[1;32m    702\u001b[0m     mgr \u001b[39m=\u001b[39m \u001b[39mself\u001b[39m\u001b[39m.\u001b[39m_init_mgr(\n\u001b[1;32m    703\u001b[0m         data, axes\u001b[39m=\u001b[39m{\u001b[39m\"\u001b[39m\u001b[39mindex\u001b[39m\u001b[39m\"\u001b[39m: index, \u001b[39m\"\u001b[39m\u001b[39mcolumns\u001b[39m\u001b[39m\"\u001b[39m: columns}, dtype\u001b[39m=\u001b[39mdtype, copy\u001b[39m=\u001b[39mcopy\n\u001b[1;32m    704\u001b[0m     )\n\u001b[1;32m    706\u001b[0m \u001b[39melif\u001b[39;00m \u001b[39misinstance\u001b[39m(data, \u001b[39mdict\u001b[39m):\n\u001b[1;32m    707\u001b[0m     \u001b[39m# GH#38939 de facto copy defaults to False only in non-dict cases\u001b[39;00m\n\u001b[0;32m--> 708\u001b[0m     mgr \u001b[39m=\u001b[39m dict_to_mgr(data, index, columns, dtype\u001b[39m=\u001b[39;49mdtype, copy\u001b[39m=\u001b[39;49mcopy, typ\u001b[39m=\u001b[39;49mmanager)\n\u001b[1;32m    709\u001b[0m \u001b[39melif\u001b[39;00m \u001b[39misinstance\u001b[39m(data, ma\u001b[39m.\u001b[39mMaskedArray):\n\u001b[1;32m    710\u001b[0m     \u001b[39mfrom\u001b[39;00m \u001b[39mnumpy\u001b[39;00m\u001b[39m.\u001b[39;00m\u001b[39mma\u001b[39;00m \u001b[39mimport\u001b[39;00m mrecords\n",
      "File \u001b[0;32m~/miniconda3/envs/dlqc/lib/python3.9/site-packages/pandas/core/internals/construction.py:481\u001b[0m, in \u001b[0;36mdict_to_mgr\u001b[0;34m(data, index, columns, dtype, typ, copy)\u001b[0m\n\u001b[1;32m    477\u001b[0m     \u001b[39melse\u001b[39;00m:\n\u001b[1;32m    478\u001b[0m         \u001b[39m# dtype check to exclude e.g. range objects, scalars\u001b[39;00m\n\u001b[1;32m    479\u001b[0m         arrays \u001b[39m=\u001b[39m [x\u001b[39m.\u001b[39mcopy() \u001b[39mif\u001b[39;00m \u001b[39mhasattr\u001b[39m(x, \u001b[39m\"\u001b[39m\u001b[39mdtype\u001b[39m\u001b[39m\"\u001b[39m) \u001b[39melse\u001b[39;00m x \u001b[39mfor\u001b[39;00m x \u001b[39min\u001b[39;00m arrays]\n\u001b[0;32m--> 481\u001b[0m \u001b[39mreturn\u001b[39;00m arrays_to_mgr(arrays, columns, index, dtype\u001b[39m=\u001b[39;49mdtype, typ\u001b[39m=\u001b[39;49mtyp, consolidate\u001b[39m=\u001b[39;49mcopy)\n",
      "File \u001b[0;32m~/miniconda3/envs/dlqc/lib/python3.9/site-packages/pandas/core/internals/construction.py:153\u001b[0m, in \u001b[0;36marrays_to_mgr\u001b[0;34m(arrays, columns, index, dtype, verify_integrity, typ, consolidate)\u001b[0m\n\u001b[1;32m    150\u001b[0m axes \u001b[39m=\u001b[39m [columns, index]\n\u001b[1;32m    152\u001b[0m \u001b[39mif\u001b[39;00m typ \u001b[39m==\u001b[39m \u001b[39m\"\u001b[39m\u001b[39mblock\u001b[39m\u001b[39m\"\u001b[39m:\n\u001b[0;32m--> 153\u001b[0m     \u001b[39mreturn\u001b[39;00m create_block_manager_from_column_arrays(\n\u001b[1;32m    154\u001b[0m         arrays, axes, consolidate\u001b[39m=\u001b[39;49mconsolidate, refs\u001b[39m=\u001b[39;49mrefs\n\u001b[1;32m    155\u001b[0m     )\n\u001b[1;32m    156\u001b[0m \u001b[39melif\u001b[39;00m typ \u001b[39m==\u001b[39m \u001b[39m\"\u001b[39m\u001b[39marray\u001b[39m\u001b[39m\"\u001b[39m:\n\u001b[1;32m    157\u001b[0m     \u001b[39mreturn\u001b[39;00m ArrayManager(arrays, [index, columns])\n",
      "File \u001b[0;32m~/miniconda3/envs/dlqc/lib/python3.9/site-packages/pandas/core/internals/managers.py:2142\u001b[0m, in \u001b[0;36mcreate_block_manager_from_column_arrays\u001b[0;34m(arrays, axes, consolidate, refs)\u001b[0m\n\u001b[1;32m   2140\u001b[0m     raise_construction_error(\u001b[39mlen\u001b[39m(arrays), arrays[\u001b[39m0\u001b[39m]\u001b[39m.\u001b[39mshape, axes, e)\n\u001b[1;32m   2141\u001b[0m \u001b[39mif\u001b[39;00m consolidate:\n\u001b[0;32m-> 2142\u001b[0m     mgr\u001b[39m.\u001b[39;49m_consolidate_inplace()\n\u001b[1;32m   2143\u001b[0m \u001b[39mreturn\u001b[39;00m mgr\n",
      "File \u001b[0;32m~/miniconda3/envs/dlqc/lib/python3.9/site-packages/pandas/core/internals/managers.py:1829\u001b[0m, in \u001b[0;36mBlockManager._consolidate_inplace\u001b[0;34m(self)\u001b[0m\n\u001b[1;32m   1823\u001b[0m \u001b[39mdef\u001b[39;00m \u001b[39m_consolidate_inplace\u001b[39m(\u001b[39mself\u001b[39m) \u001b[39m-\u001b[39m\u001b[39m>\u001b[39m \u001b[39mNone\u001b[39;00m:\n\u001b[1;32m   1824\u001b[0m     \u001b[39m# In general, _consolidate_inplace should only be called via\u001b[39;00m\n\u001b[1;32m   1825\u001b[0m     \u001b[39m#  DataFrame._consolidate_inplace, otherwise we will fail to invalidate\u001b[39;00m\n\u001b[1;32m   1826\u001b[0m     \u001b[39m#  the DataFrame's _item_cache. The exception is for newly-created\u001b[39;00m\n\u001b[1;32m   1827\u001b[0m     \u001b[39m#  BlockManager objects not yet attached to a DataFrame.\u001b[39;00m\n\u001b[1;32m   1828\u001b[0m     \u001b[39mif\u001b[39;00m \u001b[39mnot\u001b[39;00m \u001b[39mself\u001b[39m\u001b[39m.\u001b[39mis_consolidated():\n\u001b[0;32m-> 1829\u001b[0m         \u001b[39mself\u001b[39m\u001b[39m.\u001b[39mblocks \u001b[39m=\u001b[39m _consolidate(\u001b[39mself\u001b[39;49m\u001b[39m.\u001b[39;49mblocks)\n\u001b[1;32m   1830\u001b[0m         \u001b[39mself\u001b[39m\u001b[39m.\u001b[39m_is_consolidated \u001b[39m=\u001b[39m \u001b[39mTrue\u001b[39;00m\n\u001b[1;32m   1831\u001b[0m         \u001b[39mself\u001b[39m\u001b[39m.\u001b[39m_known_consolidated \u001b[39m=\u001b[39m \u001b[39mTrue\u001b[39;00m\n",
      "File \u001b[0;32m~/miniconda3/envs/dlqc/lib/python3.9/site-packages/pandas/core/internals/managers.py:2268\u001b[0m, in \u001b[0;36m_consolidate\u001b[0;34m(blocks)\u001b[0m\n\u001b[1;32m   2266\u001b[0m \u001b[39m# sort by _can_consolidate, dtype\u001b[39;00m\n\u001b[1;32m   2267\u001b[0m gkey \u001b[39m=\u001b[39m \u001b[39mlambda\u001b[39;00m x: x\u001b[39m.\u001b[39m_consolidate_key\n\u001b[0;32m-> 2268\u001b[0m grouper \u001b[39m=\u001b[39m itertools\u001b[39m.\u001b[39mgroupby(\u001b[39msorted\u001b[39;49m(blocks, key\u001b[39m=\u001b[39;49mgkey), gkey)\n\u001b[1;32m   2270\u001b[0m new_blocks: \u001b[39mlist\u001b[39m[Block] \u001b[39m=\u001b[39m []\n\u001b[1;32m   2271\u001b[0m \u001b[39mfor\u001b[39;00m (_can_consolidate, dtype), group_blocks \u001b[39min\u001b[39;00m grouper:\n",
      "File \u001b[0;32m~/miniconda3/envs/dlqc/lib/python3.9/site-packages/pandas/core/internals/managers.py:2267\u001b[0m, in \u001b[0;36m_consolidate.<locals>.<lambda>\u001b[0;34m(x)\u001b[0m\n\u001b[1;32m   2263\u001b[0m \u001b[39m\u001b[39m\u001b[39m\"\"\"\u001b[39;00m\n\u001b[1;32m   2264\u001b[0m \u001b[39mMerge blocks having same dtype, exclude non-consolidating blocks\u001b[39;00m\n\u001b[1;32m   2265\u001b[0m \u001b[39m\"\"\"\u001b[39;00m\n\u001b[1;32m   2266\u001b[0m \u001b[39m# sort by _can_consolidate, dtype\u001b[39;00m\n\u001b[0;32m-> 2267\u001b[0m gkey \u001b[39m=\u001b[39m \u001b[39mlambda\u001b[39;00m x: x\u001b[39m.\u001b[39;49m_consolidate_key\n\u001b[1;32m   2268\u001b[0m grouper \u001b[39m=\u001b[39m itertools\u001b[39m.\u001b[39mgroupby(\u001b[39msorted\u001b[39m(blocks, key\u001b[39m=\u001b[39mgkey), gkey)\n\u001b[1;32m   2270\u001b[0m new_blocks: \u001b[39mlist\u001b[39m[Block] \u001b[39m=\u001b[39m []\n",
      "File \u001b[0;32m~/miniconda3/envs/dlqc/lib/python3.9/site-packages/pandas/_libs/properties.pyx:36\u001b[0m, in \u001b[0;36mpandas._libs.properties.CachedProperty.__get__\u001b[0;34m()\u001b[0m\n",
      "File \u001b[0;32m~/miniconda3/envs/dlqc/lib/python3.9/site-packages/pandas/core/internals/blocks.py:167\u001b[0m, in \u001b[0;36mBlock._consolidate_key\u001b[0;34m(self)\u001b[0m\n\u001b[1;32m    164\u001b[0m \u001b[39m@final\u001b[39m\n\u001b[1;32m    165\u001b[0m \u001b[39m@cache_readonly\u001b[39m\n\u001b[1;32m    166\u001b[0m \u001b[39mdef\u001b[39;00m \u001b[39m_consolidate_key\u001b[39m(\u001b[39mself\u001b[39m):\n\u001b[0;32m--> 167\u001b[0m     \u001b[39mreturn\u001b[39;00m \u001b[39mself\u001b[39m\u001b[39m.\u001b[39m_can_consolidate, \u001b[39mself\u001b[39;49m\u001b[39m.\u001b[39;49mdtype\u001b[39m.\u001b[39;49mname\n",
      "File \u001b[0;32m~/miniconda3/envs/dlqc/lib/python3.9/site-packages/numpy/core/_dtype.py:358\u001b[0m, in \u001b[0;36m_name_get\u001b[0;34m(dtype)\u001b[0m\n\u001b[1;32m    355\u001b[0m     name \u001b[39m=\u001b[39m _kind_name(dtype)\n\u001b[1;32m    357\u001b[0m \u001b[39m# append bit counts\u001b[39;00m\n\u001b[0;32m--> 358\u001b[0m \u001b[39mif\u001b[39;00m _name_includes_bit_suffix(dtype):\n\u001b[1;32m    359\u001b[0m     name \u001b[39m+\u001b[39m\u001b[39m=\u001b[39m \u001b[39m\"\u001b[39m\u001b[39m{}\u001b[39;00m\u001b[39m\"\u001b[39m\u001b[39m.\u001b[39mformat(dtype\u001b[39m.\u001b[39mitemsize \u001b[39m*\u001b[39m \u001b[39m8\u001b[39m)\n\u001b[1;32m    361\u001b[0m \u001b[39m# append metadata to datetimes\u001b[39;00m\n",
      "File \u001b[0;32m~/miniconda3/envs/dlqc/lib/python3.9/site-packages/numpy/core/_dtype.py:337\u001b[0m, in \u001b[0;36m_name_includes_bit_suffix\u001b[0;34m(dtype)\u001b[0m\n\u001b[1;32m    334\u001b[0m \u001b[39melif\u001b[39;00m dtype\u001b[39m.\u001b[39mtype \u001b[39m==\u001b[39m np\u001b[39m.\u001b[39mbool_:\n\u001b[1;32m    335\u001b[0m     \u001b[39m# implied\u001b[39;00m\n\u001b[1;32m    336\u001b[0m     \u001b[39mreturn\u001b[39;00m \u001b[39mFalse\u001b[39;00m\n\u001b[0;32m--> 337\u001b[0m \u001b[39melif\u001b[39;00m np\u001b[39m.\u001b[39;49missubdtype(dtype, np\u001b[39m.\u001b[39;49mflexible) \u001b[39mand\u001b[39;00m _isunsized(dtype):\n\u001b[1;32m    338\u001b[0m     \u001b[39m# unspecified\u001b[39;00m\n\u001b[1;32m    339\u001b[0m     \u001b[39mreturn\u001b[39;00m \u001b[39mFalse\u001b[39;00m\n\u001b[1;32m    340\u001b[0m \u001b[39melse\u001b[39;00m:\n",
      "File \u001b[0;32m~/miniconda3/envs/dlqc/lib/python3.9/site-packages/numpy/core/numerictypes.py:420\u001b[0m, in \u001b[0;36missubdtype\u001b[0;34m(arg1, arg2)\u001b[0m\n\u001b[1;32m    417\u001b[0m \u001b[39mif\u001b[39;00m \u001b[39mnot\u001b[39;00m issubclass_(arg2, generic):\n\u001b[1;32m    418\u001b[0m     arg2 \u001b[39m=\u001b[39m dtype(arg2)\u001b[39m.\u001b[39mtype\n\u001b[0;32m--> 420\u001b[0m \u001b[39mreturn\u001b[39;00m \u001b[39missubclass\u001b[39;49m(arg1, arg2)\n",
      "\u001b[0;31mKeyboardInterrupt\u001b[0m: "
     ]
    }
   ],
   "source": [
    "for year in years:\n",
    "    pbar = tqdm(getattr(dlqc, f'min_{year}'), desc=year)\n",
    "    for stn_id in pbar:\n",
    "        min_list = getattr(dlqc, f'min_{year}')[stn_id] > 0\n",
    "        qcd_list = getattr(dlqc, f'qcd_{year}')[stn_id] > 0\n",
    "        for month_idx in np.where(min_list | qcd_list)[0]:\n",
    "            # min, qcd 둘 다 있는 월\n",
    "            if month_idx in np.where(min_list & qcd_list)[0]:\n",
    "                min_df = pd.read_csv(os.path.join(data_dir, year, f'dlqc_aws3_min_{stn_id:03d}_{year}{month_idx+1:02d}.csv'),\n",
    "                                     header=None, names=header_name, date_format='%Y.%m.%d %H:%M:%S', parse_dates=[0], index_col=[0])\n",
    "                qcd_df = pd.read_csv(os.path.join(data_dir, year, f'dlqc_aws3_qcd_{stn_id:03d}_{year}{month_idx+1:02d}.csv'),\n",
    "                                     header=None, names=header_name, date_format='%Y.%m.%d %H:%M:%S', parse_dates=[0], index_col=[0])\n",
    "                \n",
    "                if is_df_time_has_full_range(min_df.index, year, month_idx + 1) and is_df_time_has_full_range(qcd_df.index, year, month_idx + 1) and is_dfs_index_has_same_range(min_df.index, qcd_df.index):\n",
    "                    print(stn_id, year, month_idx+1)\n",
    "                \n",
    "            # 한쪽만 있는 월. 크게 의미가 없다.\n",
    "            else:\n",
    "                print(stn_id, year, month_idx+1)"
   ]
  },
  {
   "attachments": {},
   "cell_type": "markdown",
   "metadata": {},
   "source": [
    "TODO - 시각화(full range 비율, 기상요소 사용비율, 결측치 비율 등)"
   ]
  },
  {
   "cell_type": "code",
   "execution_count": null,
   "metadata": {},
   "outputs": [],
   "source": []
  }
 ],
 "metadata": {
  "kernelspec": {
   "display_name": "dlqc",
   "language": "python",
   "name": "python3"
  },
  "language_info": {
   "codemirror_mode": {
    "name": "ipython",
    "version": 3
   },
   "file_extension": ".py",
   "mimetype": "text/x-python",
   "name": "python",
   "nbconvert_exporter": "python",
   "pygments_lexer": "ipython3",
   "version": "3.9.16"
  },
  "orig_nbformat": 4,
  "vscode": {
   "interpreter": {
    "hash": "212d45c35abb893495e6e8379633fa00fbeba7a41dadeb6f5af6079a0c1df188"
   }
  }
 },
 "nbformat": 4,
 "nbformat_minor": 2
}
